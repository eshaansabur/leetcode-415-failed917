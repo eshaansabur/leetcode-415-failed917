{
 "cells": [
  {
   "cell_type": "code",
   "execution_count": 4,
   "id": "52ffbd2b-3e3c-4edd-a065-199c5e31196f",
   "metadata": {},
   "outputs": [
    {
     "data": {
      "text/plain": [
       "'134'"
      ]
     },
     "execution_count": 4,
     "metadata": {},
     "output_type": "execute_result"
    }
   ],
   "source": [
    "num1 = \"11\"\n",
    "num2 = \"123\"\n",
    "def addStrings(num1, num2):\n",
    "    n1= int(num1)\n",
    "    n2= int(num2)\n",
    "    sum= n1+n2\n",
    "    sum= str(sum)\n",
    "    return sum\n",
    "addStrings(num1, num2)"
   ]
  },
  {
   "cell_type": "code",
   "execution_count": 34,
   "id": "838bf5f1-b36f-4a12-9b42-1ee6c7da2363",
   "metadata": {},
   "outputs": [
    {
     "name": "stdout",
     "output_type": "stream",
     "text": [
      "jIhgfEdCba\n",
      "a\n",
      "a\n",
      "a\n"
     ]
    },
    {
     "data": {
      "text/plain": [
       "'a'"
      ]
     },
     "execution_count": 34,
     "metadata": {},
     "output_type": "execute_result"
    }
   ],
   "source": [
    "s = \"a-bC-dEf-ghIj\"\n",
    "def reverseOnlyLetters(s):\n",
    "    #print(s[1])\n",
    "    punc_array= []\n",
    "    for i in range(len(s)):\n",
    "        if s[i]== '-':\n",
    "            #print(i, s[i])\n",
    "            punc_array.append(i)\n",
    "    s= s.replace(\"-\", \"\")\n",
    "    s_reverse= s[::-1]\n",
    "    print(s_reverse)\n",
    "    output=\"\"\n",
    "    for j in punc_array:\n",
    "        #print(s_reverse[i])\n",
    "        for i in range(len(s)):\n",
    "            output=s_reverse[i]\n",
    "            if i in punc_array:\n",
    "                output=output+\"\"\n",
    "        print(output)\n",
    "    return output\n",
    "reverseOnlyLetters(s)"
   ]
  },
  {
   "cell_type": "code",
   "execution_count": null,
   "id": "0893378a-c5d1-457c-83f7-6a02550cda2e",
   "metadata": {},
   "outputs": [],
   "source": []
  }
 ],
 "metadata": {
  "kernelspec": {
   "display_name": "Python 3 (ipykernel)",
   "language": "python",
   "name": "python3"
  },
  "language_info": {
   "codemirror_mode": {
    "name": "ipython",
    "version": 3
   },
   "file_extension": ".py",
   "mimetype": "text/x-python",
   "name": "python",
   "nbconvert_exporter": "python",
   "pygments_lexer": "ipython3",
   "version": "3.11.7"
  }
 },
 "nbformat": 4,
 "nbformat_minor": 5
}
